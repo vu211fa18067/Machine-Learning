{
  "nbformat": 4,
  "nbformat_minor": 0,
  "metadata": {
    "colab": {
      "provenance": [],
      "authorship_tag": "ABX9TyOP0zZeUL3wHPSo0LesPUjx",
      "include_colab_link": true
    },
    "kernelspec": {
      "name": "python3",
      "display_name": "Python 3"
    },
    "language_info": {
      "name": "python"
    }
  },
  "cells": [
    {
      "cell_type": "markdown",
      "metadata": {
        "id": "view-in-github",
        "colab_type": "text"
      },
      "source": [
        "<a href=\"https://colab.research.google.com/github/vu211fa18067/Machine-Learning/blob/main/ML_1.ipynb\" target=\"_parent\"><img src=\"https://colab.research.google.com/assets/colab-badge.svg\" alt=\"Open In Colab\"/></a>"
      ]
    },
    {
      "cell_type": "markdown",
      "source": [
        "**▪ Apply the following tasks to any given dataset:\n",
        "\n",
        "a. Load and visualize data\n",
        "\n",
        "b. Check out and replace missing values\n",
        "\n",
        "c. Encode the Categorical data\n",
        "\n",
        "d. Splitting the dataset into Training and Test set\n",
        "\n",
        "e. Splitting the dataset into k-folds\n",
        "\n",
        "f. Feature scaling**"
      ],
      "metadata": {
        "id": "f1bA98aoNgUq"
      }
    },
    {
      "cell_type": "code",
      "source": [
        "import pandas as pd\n",
        "import numpy as np"
      ],
      "metadata": {
        "id": "0ZmfoEodNqBc"
      },
      "execution_count": 2,
      "outputs": []
    },
    {
      "cell_type": "code",
      "source": [
        "# A) Load Data\n",
        "df = pd.read_csv('/content/Dataset.csv')\n",
        "print(df)"
      ],
      "metadata": {
        "colab": {
          "base_uri": "https://localhost:8080/"
        },
        "id": "OLB_XRmZOFqx",
        "outputId": "ad1f49b8-ba66-4f93-d621-6713d851cffe"
      },
      "execution_count": 5,
      "outputs": [
        {
          "output_type": "stream",
          "name": "stdout",
          "text": [
            "   Country   Age   Salary Purchased\n",
            "0   France  44.0  72000.0        No\n",
            "1    Spain  27.0  48000.0       Yes\n",
            "2  Germany  30.0  54000.0        No\n",
            "3    Spain  38.0  61000.0        No\n",
            "4  Germany  40.0      NaN       Yes\n",
            "5   France  35.0  58000.0       Yes\n",
            "6    Spain   NaN  52000.0        No\n",
            "7   France  48.0  79000.0       Yes\n",
            "8  Germany  50.0  83000.0        No\n",
            "9   France  37.0  67000.0       Yes\n"
          ]
        }
      ]
    },
    {
      "cell_type": "code",
      "source": [
        "# A) Visualize\n",
        "import matplotlib.pyplot as plt\n",
        "df.hist(figsize=(10,10))\n",
        "plt.show()"
      ],
      "metadata": {
        "colab": {
          "base_uri": "https://localhost:8080/",
          "height": 853
        },
        "id": "xCbNtBG6QTcu",
        "outputId": "57c5639c-6158-435f-c397-f151e1dfa0d0"
      },
      "execution_count": 6,
      "outputs": [
        {
          "output_type": "display_data",
          "data": {
            "text/plain": [
              "<Figure size 1000x1000 with 2 Axes>"
            ],
            "image/png": "[encoded data removed]"
          },
          "metadata": {}
        }
      ]
    },
    {
      "cell_type": "code",
      "source": [
        "# B) Handle Missing Values(NaN and Empty Values are removed)\n",
        "df.fillna(df.select_dtypes(include=np.number).mean(), inplace=True)\n",
        "print(df)"
      ],
      "metadata": {
        "colab": {
          "base_uri": "https://localhost:8080/"
        },
        "id": "Mhs3L_8TSZ6w",
        "outputId": "d95f6c81-378d-4c12-8a6f-14e0dd56633d"
      },
      "execution_count": 8,
      "outputs": [
        {
          "output_type": "stream",
          "name": "stdout",
          "text": [
            "   Country        Age        Salary Purchased\n",
            "0   France  44.000000  72000.000000        No\n",
            "1    Spain  27.000000  48000.000000       Yes\n",
            "2  Germany  30.000000  54000.000000        No\n",
            "3    Spain  38.000000  61000.000000        No\n",
            "4  Germany  40.000000  63777.777778       Yes\n",
            "5   France  35.000000  58000.000000       Yes\n",
            "6    Spain  38.777778  52000.000000        No\n",
            "7   France  48.000000  79000.000000       Yes\n",
            "8  Germany  50.000000  83000.000000        No\n",
            "9   France  37.000000  67000.000000       Yes\n"
          ]
        }
      ]
    },
    {
      "cell_type": "code",
      "source": [
        "# C) Encode the Categorical Data\n",
        "from sklearn.preprocessing import LabelEncoder\n",
        "le = LabelEncoder()\n",
        "df['Country']=le.fit_transform(df['Country'])\n",
        "print(df['Country'])"
      ],
      "metadata": {
        "colab": {
          "base_uri": "https://localhost:8080/"
        },
        "id": "qNeMfdQ-TxnJ",
        "outputId": "7fc3ac81-994b-4467-924a-4be54ad02e89"
      },
      "execution_count": 10,
      "outputs": [
        {
          "output_type": "stream",
          "name": "stdout",
          "text": [
            "0    0\n",
            "1    2\n",
            "2    1\n",
            "3    2\n",
            "4    1\n",
            "5    0\n",
            "6    2\n",
            "7    0\n",
            "8    1\n",
            "9    0\n",
            "Name: Country, dtype: int64\n"
          ]
        }
      ]
    },
    {
      "cell_type": "code",
      "source": [
        "# D) Splitting the dataset into Training and Test set\n",
        "from sklearn.model_selection import train_test_split\n",
        "X = df.drop('Purchased', axis=1)\n",
        "y = df['Purchased']\n",
        "X_train, X_test, y_train, y_test = train_test_split(X, y, test_size=0.2) #80%of data Used for Traing ,20% of data Used for Testing"
      ],
      "metadata": {
        "id": "Scr-cNfBVRRu"
      },
      "execution_count": 13,
      "outputs": []
    },
    {
      "cell_type": "code",
      "source": [
        "# E)  Splitting the dataset into k-folds\n",
        "from sklearn.model_selection import KFold\n",
        "kf = KFold(n_splits=5, shuffle=True, random_state=42)\n",
        "for train_index, test_index in kf.split(X):\n",
        "    X_ktrain, X_ktest = X.iloc[train_index], X.iloc[test_index]\n",
        "    y_ktrain, y_ktest = y.iloc[train_index], y.iloc[test_index]"
      ],
      "metadata": {
        "id": "fKmIa8inW6Dr"
      },
      "execution_count": 14,
      "outputs": []
    },
    {
      "cell_type": "code",
      "source": [
        "# F) Feature scaling\n",
        "from sklearn.preprocessing import StandardScaler\n",
        "sc= StandardScaler()\n",
        "X_train_scaled = sc.fit_transform(X_train)\n",
        "X_test_scaled = sc.transform(X_test)\n",
        "print(X_train_scaled)\n",
        "print('---------------------------------------------')\n",
        "print(X_test_scaled)"
      ],
      "metadata": {
        "colab": {
          "base_uri": "https://localhost:8080/"
        },
        "id": "QE7gbv77aQcj",
        "outputId": "486e1232-3085-465b-ff50-51f524e0f647"
      },
      "execution_count": 17,
      "outputs": [
        {
          "output_type": "stream",
          "name": "stdout",
          "text": [
            "[[ 1.50755672 -1.61081561 -1.60053077]\n",
            " [-0.90453403  1.64963044  1.74126968]\n",
            " [-0.90453403 -0.05822225  0.4476695 ]\n",
            " [ 1.50755672  0.09703708 -0.19913058]\n",
            " [ 0.30151134 -1.1450376  -0.95373068]\n",
            " [ 0.30151134  0.40755576  0.1003139 ]\n",
            " [-0.90453403  1.0285931   0.98666958]\n",
            " [-0.90453403 -0.36874092 -0.52253063]]\n",
            "---------------------------------------------\n",
            "[[ 0.30151134  1.96014912  2.17246973]\n",
            " [ 1.50755672  0.21779435 -1.16933071]]\n"
          ]
        }
      ]
    }
  ]
}