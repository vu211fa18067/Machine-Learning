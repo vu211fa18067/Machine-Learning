{
  "nbformat": 4,
  "nbformat_minor": 0,
  "metadata": {
    "colab": {
      "provenance": [],
      "authorship_tag": "ABX9TyPxQ0EMRetg7DLnp4n2I0lt",
      "include_colab_link": true
    },
    "kernelspec": {
      "name": "python3",
      "display_name": "Python 3"
    },
    "language_info": {
      "name": "python"
    }
  },
  "cells": [
    {
      "cell_type": "markdown",
      "metadata": {
        "id": "view-in-github",
        "colab_type": "text"
      },
      "source": [
        "<a href=\"https://colab.research.google.com/github/vu211fa18067/Machine-Learning/blob/main/ML_Data_Pre_Processsing.ipynb\" target=\"_parent\"><img src=\"https://colab.research.google.com/assets/colab-badge.svg\" alt=\"Open In Colab\"/></a>"
      ]
    },
    {
      "cell_type": "markdown",
      "source": [
        "**Data Cleaning**"
      ],
      "metadata": {
        "id": "A09MkEWAcMMS"
      }
    },
    {
      "cell_type": "code",
      "source": [
        "import pandas as pd\n",
        "import numpy as np\n",
        "from sklearn.impute import SimpleImputer\n",
        "\n",
        "X = [[1,2],[np.nan,3],[7,6]]\n",
        "\n",
        "imputer = SimpleImputer(missing_values=np.nan, strategy='mean')\n",
        "\n",
        "X_transformed = imputer.fit_transform(X)\n",
        "print(X_transformed)"
      ],
      "metadata": {
        "colab": {
          "base_uri": "https://localhost:8080/"
        },
        "id": "yWhds1upcUKh",
        "outputId": "385f34fc-e262-4090-8e09-f0bed128c77a"
      },
      "execution_count": 1,
      "outputs": [
        {
          "output_type": "stream",
          "name": "stdout",
          "text": [
            "[[1. 2.]\n",
            " [4. 3.]\n",
            " [7. 6.]]\n"
          ]
        }
      ]
    },
    {
      "cell_type": "code",
      "source": [
        "import pandas as pd\n",
        "\n",
        "data = {'Name':['Alice','Bob','Charlie'],'Age':[25,30,35],'City':['New York','San Francisco','Los Angeles']}\n",
        "\n",
        "df = pd.DataFrame(data)\n",
        "print(df)"
      ],
      "metadata": {
        "colab": {
          "base_uri": "https://localhost:8080/"
        },
        "id": "w6wnbPX-eZ73",
        "outputId": "8f546fc9-efdb-4389-96fe-56bed0ce3c80"
      },
      "execution_count": 3,
      "outputs": [
        {
          "output_type": "stream",
          "name": "stdout",
          "text": [
            "      Name  Age           City\n",
            "0    Alice   25       New York\n",
            "1      Bob   30  San Francisco\n",
            "2  Charlie   35    Los Angeles\n"
          ]
        }
      ]
    },
    {
      "cell_type": "code",
      "source": [
        "import pandas as pd\n",
        "from sklearn.impute import SimpleImputer\n",
        "\n",
        "data ={\n",
        "    'name': ['John', 'Jane', 'Jack', 'John', None],\n",
        "    'age': [28, 34, None, 28, 22],\n",
        "    'purchase_amount': [100.5, None, 85.3, 100.5, 50.0],\n",
        "    'date_of_purchase': ['2023/12/01', '2023/12/02', '2023/12/01', '2023/12/01', '2023/12/03']\n",
        "}\n",
        "df = pd.DataFrame(data)\n",
        "\n",
        "print(df)\n",
        "print(\"------------------------------------------------------------------------------------------------------------------------------------------------------------------------------------------------------------------------------\")\n",
        "\n",
        "###Applying Imputer strategy to impute missing values like None in the DataSet\n",
        "imputer = SimpleImputer(strategy='mean')\n",
        "\n",
        "df[['age', 'purchase_amount']] = imputer.fit_transform(df[['age', 'purchase_amount']])\n",
        "\n",
        "df = df.drop_duplicates()\n",
        "\n",
        "df['date_of_purchase'] = pd.to_datetime(df['date_of_purchase'], errors='coerce')\n",
        "\n",
        "print(df)"
      ],
      "metadata": {
        "colab": {
          "base_uri": "https://localhost:8080/"
        },
        "id": "Iwl0lk4lgAwi",
        "outputId": "a88b951b-1fc2-4f30-e4fd-55106999e471"
      },
      "execution_count": 9,
      "outputs": [
        {
          "output_type": "stream",
          "name": "stdout",
          "text": [
            "   name   age  purchase_amount date_of_purchase\n",
            "0  John  28.0            100.5       2023/12/01\n",
            "1  Jane  34.0              NaN       2023/12/02\n",
            "2  Jack   NaN             85.3       2023/12/01\n",
            "3  John  28.0            100.5       2023/12/01\n",
            "4  None  22.0             50.0       2023/12/03\n",
            "------------------------------------------------------------------------------------------------------------------------------------------------------------------------------------------------------------------------------\n",
            "   name   age  purchase_amount date_of_purchase\n",
            "0  John  28.0          100.500       2023-12-01\n",
            "1  Jane  34.0           84.075       2023-12-02\n",
            "2  Jack  28.0           85.300       2023-12-01\n",
            "4  None  22.0           50.000       2023-12-03\n"
          ]
        }
      ]
    }
  ]
}